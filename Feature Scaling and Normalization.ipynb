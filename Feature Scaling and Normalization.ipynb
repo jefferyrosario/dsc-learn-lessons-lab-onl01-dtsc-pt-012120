{
 "cells": [
  {
   "cell_type": "code",
   "execution_count": 2,
   "metadata": {},
   "outputs": [],
   "source": [
    "import numpy as np\n",
    "import pandas as pd\n",
    "import matplotlib.pyplot as plt\n",
    "%matplotlib inline\n",
    "plt.style.use('seaborn')"
   ]
  },
  {
   "cell_type": "code",
   "execution_count": 3,
   "metadata": {},
   "outputs": [],
   "source": [
    "ames_df = pd.read_csv('train.csv')"
   ]
  },
  {
   "cell_type": "markdown",
   "metadata": {},
   "source": [
    "Let's divide the dataframe into continuous and categorical dataframes."
   ]
  },
  {
   "cell_type": "code",
   "execution_count": 28,
   "metadata": {},
   "outputs": [
    {
     "name": "stderr",
     "output_type": "stream",
     "text": [
      "C:\\Users\\Public\\Anaconda3\\lib\\site-packages\\pandas\\core\\frame.py:4102: SettingWithCopyWarning: \n",
      "A value is trying to be set on a copy of a slice from a DataFrame\n",
      "\n",
      "See the caveats in the documentation: http://pandas.pydata.org/pandas-docs/stable/user_guide/indexing.html#returning-a-view-versus-a-copy\n",
      "  errors=errors,\n"
     ]
    }
   ],
   "source": [
    "int_df = ames_df.select_dtypes('number')\n",
    "\n",
    "def uniq_col(df):\n",
    "    cols = int_df.columns\n",
    "    keep = []\n",
    "    for col in cols:\n",
    "        leng = len(list(df[col].unique()))\n",
    "        if(leng > 100):\n",
    "            keep.append(col)\n",
    "    return keep\n",
    "\n",
    "cont_df = uniq_col(int_df)\n",
    "\n",
    "cont_df = int_df[[df for df in cont_df]]\n",
    "\n",
    "cont_df.drop(['Id'], axis =1 ,inplace = True)\n"
   ]
  },
  {
   "cell_type": "code",
   "execution_count": 37,
   "metadata": {},
   "outputs": [],
   "source": [
    "continuous = ['LotArea', '1stFlrSF', 'GrLivArea', 'SalePrice']\n",
    "categorical = ['BldgType', 'KitchenQual', 'SaleType', 'MSZoning', 'Street', 'Neighborhood']\n",
    "\n",
    "ames_cont = ames_df[continuous]\n",
    "\n",
    "log_names = [f'{column}_log' for column in ames_cont.columns]\n",
    "\n",
    "ames_log = np.log(ames_cont)\n",
    "ames_log.columns = log_names\n",
    "\n",
    "def normalize(feature):\n",
    "    return (feature - feature.mean()/feature.std())\n",
    "\n",
    "ames_log_norm = ames_log.apply(normalize)\n",
    "\n",
    "#one hot encoded categoricals\n",
    "ames_ohe = pd.get_dummies(ames_df[categorical], prefix = 'categoricals', drop_first=True)\n",
    "\n",
    "preprocessed = pd.concat([ames_log_norm, ames_ohe], axis = 1)"
   ]
  },
  {
   "cell_type": "code",
   "execution_count": 36,
   "metadata": {},
   "outputs": [],
   "source": [
    "import statsmodels.api as sm\n",
    "\n",
    "def stepwise_selection(X, y, \n",
    "                       initial_list=[], \n",
    "                       threshold_in=0.01, \n",
    "                       threshold_out = 0.05, \n",
    "                       verbose=True):\n",
    "    \"\"\" Perform a forward-backward feature selection \n",
    "    based on p-value from statsmodels.api.OLS\n",
    "    Arguments:\n",
    "        X - pandas.DataFrame with candidate features\n",
    "        y - list-like with the target\n",
    "        initial_list - list of features to start with (column names of X)\n",
    "        threshold_in - include a feature if its p-value < threshold_in\n",
    "        threshold_out - exclude a feature if its p-value > threshold_out\n",
    "        verbose - whether to print the sequence of inclusions and exclusions\n",
    "    Returns: list of selected features \n",
    "    Always set threshold_in < threshold_out to avoid infinite looping.\n",
    "    See https://en.wikipedia.org/wiki/Stepwise_regression for the details\n",
    "    \"\"\"\n",
    "    included = list(initial_list)\n",
    "    while True:\n",
    "        changed=False\n",
    "        # forward step\n",
    "        excluded = list(set(X.columns)-set(included))\n",
    "        new_pval = pd.Series(index=excluded)\n",
    "        for new_column in excluded:\n",
    "            model = sm.OLS(y, sm.add_constant(pd.DataFrame(X[included+[new_column]]))).fit()\n",
    "            new_pval[new_column] = model.pvalues[new_column]\n",
    "        best_pval = new_pval.min()\n",
    "        if best_pval < threshold_in:\n",
    "            best_feature = new_pval.idxmin()\n",
    "            included.append(best_feature)\n",
    "            changed=True\n",
    "            if verbose:\n",
    "                print('Add  {:30} with p-value {:.6}'.format(best_feature, best_pval))\n",
    "\n",
    "        # backward step\n",
    "        model = sm.OLS(y, sm.add_constant(pd.DataFrame(X[included]))).fit()\n",
    "        # use all coefs except intercept\n",
    "        pvalues = model.pvalues.iloc[1:]\n",
    "        worst_pval = pvalues.max() # null if pvalues is empty\n",
    "        if worst_pval > threshold_out:\n",
    "            changed=True\n",
    "            worst_feature = pvalues.argmax()\n",
    "            included.remove(worst_feature)\n",
    "            if verbose:\n",
    "                print('Drop {:30} with p-value {:.6}'.format(worst_feature, worst_pval))\n",
    "        if not changed:\n",
    "            break\n",
    "    return included"
   ]
  },
  {
   "cell_type": "code",
   "execution_count": 40,
   "metadata": {},
   "outputs": [
    {
     "name": "stderr",
     "output_type": "stream",
     "text": [
      "C:\\Users\\Public\\Anaconda3\\lib\\site-packages\\numpy\\core\\fromnumeric.py:2389: FutureWarning: Method .ptp is deprecated and will be removed in a future version. Use numpy.ptp instead.\n",
      "  return ptp(axis=axis, out=out, **kwargs)\n",
      "C:\\Users\\Public\\Anaconda3\\lib\\site-packages\\numpy\\core\\fromnumeric.py:2389: FutureWarning: Method .ptp is deprecated and will be removed in a future version. Use numpy.ptp instead.\n",
      "  return ptp(axis=axis, out=out, **kwargs)\n",
      "C:\\Users\\Public\\Anaconda3\\lib\\site-packages\\numpy\\core\\fromnumeric.py:2389: FutureWarning: Method .ptp is deprecated and will be removed in a future version. Use numpy.ptp instead.\n",
      "  return ptp(axis=axis, out=out, **kwargs)\n",
      "C:\\Users\\Public\\Anaconda3\\lib\\site-packages\\numpy\\core\\fromnumeric.py:2389: FutureWarning: Method .ptp is deprecated and will be removed in a future version. Use numpy.ptp instead.\n",
      "  return ptp(axis=axis, out=out, **kwargs)\n",
      "C:\\Users\\Public\\Anaconda3\\lib\\site-packages\\numpy\\core\\fromnumeric.py:2389: FutureWarning: Method .ptp is deprecated and will be removed in a future version. Use numpy.ptp instead.\n",
      "  return ptp(axis=axis, out=out, **kwargs)\n",
      "C:\\Users\\Public\\Anaconda3\\lib\\site-packages\\numpy\\core\\fromnumeric.py:2389: FutureWarning: Method .ptp is deprecated and will be removed in a future version. Use numpy.ptp instead.\n",
      "  return ptp(axis=axis, out=out, **kwargs)\n",
      "C:\\Users\\Public\\Anaconda3\\lib\\site-packages\\numpy\\core\\fromnumeric.py:2389: FutureWarning: Method .ptp is deprecated and will be removed in a future version. Use numpy.ptp instead.\n",
      "  return ptp(axis=axis, out=out, **kwargs)\n",
      "C:\\Users\\Public\\Anaconda3\\lib\\site-packages\\numpy\\core\\fromnumeric.py:2389: FutureWarning: Method .ptp is deprecated and will be removed in a future version. Use numpy.ptp instead.\n",
      "  return ptp(axis=axis, out=out, **kwargs)\n",
      "C:\\Users\\Public\\Anaconda3\\lib\\site-packages\\numpy\\core\\fromnumeric.py:2389: FutureWarning: Method .ptp is deprecated and will be removed in a future version. Use numpy.ptp instead.\n",
      "  return ptp(axis=axis, out=out, **kwargs)\n",
      "C:\\Users\\Public\\Anaconda3\\lib\\site-packages\\numpy\\core\\fromnumeric.py:2389: FutureWarning: Method .ptp is deprecated and will be removed in a future version. Use numpy.ptp instead.\n",
      "  return ptp(axis=axis, out=out, **kwargs)\n",
      "C:\\Users\\Public\\Anaconda3\\lib\\site-packages\\numpy\\core\\fromnumeric.py:2389: FutureWarning: Method .ptp is deprecated and will be removed in a future version. Use numpy.ptp instead.\n",
      "  return ptp(axis=axis, out=out, **kwargs)\n",
      "C:\\Users\\Public\\Anaconda3\\lib\\site-packages\\numpy\\core\\fromnumeric.py:2389: FutureWarning: Method .ptp is deprecated and will be removed in a future version. Use numpy.ptp instead.\n",
      "  return ptp(axis=axis, out=out, **kwargs)\n",
      "C:\\Users\\Public\\Anaconda3\\lib\\site-packages\\numpy\\core\\fromnumeric.py:2389: FutureWarning: Method .ptp is deprecated and will be removed in a future version. Use numpy.ptp instead.\n",
      "  return ptp(axis=axis, out=out, **kwargs)\n",
      "C:\\Users\\Public\\Anaconda3\\lib\\site-packages\\numpy\\core\\fromnumeric.py:2389: FutureWarning: Method .ptp is deprecated and will be removed in a future version. Use numpy.ptp instead.\n",
      "  return ptp(axis=axis, out=out, **kwargs)\n",
      "C:\\Users\\Public\\Anaconda3\\lib\\site-packages\\numpy\\core\\fromnumeric.py:2389: FutureWarning: Method .ptp is deprecated and will be removed in a future version. Use numpy.ptp instead.\n",
      "  return ptp(axis=axis, out=out, **kwargs)\n",
      "C:\\Users\\Public\\Anaconda3\\lib\\site-packages\\numpy\\core\\fromnumeric.py:2389: FutureWarning: Method .ptp is deprecated and will be removed in a future version. Use numpy.ptp instead.\n",
      "  return ptp(axis=axis, out=out, **kwargs)\n",
      "C:\\Users\\Public\\Anaconda3\\lib\\site-packages\\numpy\\core\\fromnumeric.py:2389: FutureWarning: Method .ptp is deprecated and will be removed in a future version. Use numpy.ptp instead.\n",
      "  return ptp(axis=axis, out=out, **kwargs)\n",
      "C:\\Users\\Public\\Anaconda3\\lib\\site-packages\\numpy\\core\\fromnumeric.py:2389: FutureWarning: Method .ptp is deprecated and will be removed in a future version. Use numpy.ptp instead.\n",
      "  return ptp(axis=axis, out=out, **kwargs)\n",
      "C:\\Users\\Public\\Anaconda3\\lib\\site-packages\\numpy\\core\\fromnumeric.py:2389: FutureWarning: Method .ptp is deprecated and will be removed in a future version. Use numpy.ptp instead.\n",
      "  return ptp(axis=axis, out=out, **kwargs)\n",
      "C:\\Users\\Public\\Anaconda3\\lib\\site-packages\\numpy\\core\\fromnumeric.py:2389: FutureWarning: Method .ptp is deprecated and will be removed in a future version. Use numpy.ptp instead.\n",
      "  return ptp(axis=axis, out=out, **kwargs)\n",
      "C:\\Users\\Public\\Anaconda3\\lib\\site-packages\\numpy\\core\\fromnumeric.py:2389: FutureWarning: Method .ptp is deprecated and will be removed in a future version. Use numpy.ptp instead.\n",
      "  return ptp(axis=axis, out=out, **kwargs)\n",
      "C:\\Users\\Public\\Anaconda3\\lib\\site-packages\\numpy\\core\\fromnumeric.py:2389: FutureWarning: Method .ptp is deprecated and will be removed in a future version. Use numpy.ptp instead.\n",
      "  return ptp(axis=axis, out=out, **kwargs)\n",
      "C:\\Users\\Public\\Anaconda3\\lib\\site-packages\\numpy\\core\\fromnumeric.py:2389: FutureWarning: Method .ptp is deprecated and will be removed in a future version. Use numpy.ptp instead.\n",
      "  return ptp(axis=axis, out=out, **kwargs)\n",
      "C:\\Users\\Public\\Anaconda3\\lib\\site-packages\\numpy\\core\\fromnumeric.py:2389: FutureWarning: Method .ptp is deprecated and will be removed in a future version. Use numpy.ptp instead.\n",
      "  return ptp(axis=axis, out=out, **kwargs)\n",
      "C:\\Users\\Public\\Anaconda3\\lib\\site-packages\\numpy\\core\\fromnumeric.py:2389: FutureWarning: Method .ptp is deprecated and will be removed in a future version. Use numpy.ptp instead.\n",
      "  return ptp(axis=axis, out=out, **kwargs)\n",
      "C:\\Users\\Public\\Anaconda3\\lib\\site-packages\\numpy\\core\\fromnumeric.py:2389: FutureWarning: Method .ptp is deprecated and will be removed in a future version. Use numpy.ptp instead.\n",
      "  return ptp(axis=axis, out=out, **kwargs)\n",
      "C:\\Users\\Public\\Anaconda3\\lib\\site-packages\\numpy\\core\\fromnumeric.py:2389: FutureWarning: Method .ptp is deprecated and will be removed in a future version. Use numpy.ptp instead.\n",
      "  return ptp(axis=axis, out=out, **kwargs)\n",
      "C:\\Users\\Public\\Anaconda3\\lib\\site-packages\\numpy\\core\\fromnumeric.py:2389: FutureWarning: Method .ptp is deprecated and will be removed in a future version. Use numpy.ptp instead.\n",
      "  return ptp(axis=axis, out=out, **kwargs)\n",
      "C:\\Users\\Public\\Anaconda3\\lib\\site-packages\\numpy\\core\\fromnumeric.py:2389: FutureWarning: Method .ptp is deprecated and will be removed in a future version. Use numpy.ptp instead.\n",
      "  return ptp(axis=axis, out=out, **kwargs)\n",
      "C:\\Users\\Public\\Anaconda3\\lib\\site-packages\\numpy\\core\\fromnumeric.py:2389: FutureWarning: Method .ptp is deprecated and will be removed in a future version. Use numpy.ptp instead.\n",
      "  return ptp(axis=axis, out=out, **kwargs)\n",
      "C:\\Users\\Public\\Anaconda3\\lib\\site-packages\\numpy\\core\\fromnumeric.py:2389: FutureWarning: Method .ptp is deprecated and will be removed in a future version. Use numpy.ptp instead.\n",
      "  return ptp(axis=axis, out=out, **kwargs)\n",
      "C:\\Users\\Public\\Anaconda3\\lib\\site-packages\\numpy\\core\\fromnumeric.py:2389: FutureWarning: Method .ptp is deprecated and will be removed in a future version. Use numpy.ptp instead.\n",
      "  return ptp(axis=axis, out=out, **kwargs)\n",
      "C:\\Users\\Public\\Anaconda3\\lib\\site-packages\\numpy\\core\\fromnumeric.py:2389: FutureWarning: Method .ptp is deprecated and will be removed in a future version. Use numpy.ptp instead.\n",
      "  return ptp(axis=axis, out=out, **kwargs)\n",
      "C:\\Users\\Public\\Anaconda3\\lib\\site-packages\\numpy\\core\\fromnumeric.py:2389: FutureWarning: Method .ptp is deprecated and will be removed in a future version. Use numpy.ptp instead.\n",
      "  return ptp(axis=axis, out=out, **kwargs)\n",
      "C:\\Users\\Public\\Anaconda3\\lib\\site-packages\\numpy\\core\\fromnumeric.py:2389: FutureWarning: Method .ptp is deprecated and will be removed in a future version. Use numpy.ptp instead.\n",
      "  return ptp(axis=axis, out=out, **kwargs)\n",
      "C:\\Users\\Public\\Anaconda3\\lib\\site-packages\\numpy\\core\\fromnumeric.py:2389: FutureWarning: Method .ptp is deprecated and will be removed in a future version. Use numpy.ptp instead.\n",
      "  return ptp(axis=axis, out=out, **kwargs)\n",
      "C:\\Users\\Public\\Anaconda3\\lib\\site-packages\\numpy\\core\\fromnumeric.py:2389: FutureWarning: Method .ptp is deprecated and will be removed in a future version. Use numpy.ptp instead.\n",
      "  return ptp(axis=axis, out=out, **kwargs)\n",
      "C:\\Users\\Public\\Anaconda3\\lib\\site-packages\\numpy\\core\\fromnumeric.py:2389: FutureWarning: Method .ptp is deprecated and will be removed in a future version. Use numpy.ptp instead.\n",
      "  return ptp(axis=axis, out=out, **kwargs)\n",
      "C:\\Users\\Public\\Anaconda3\\lib\\site-packages\\numpy\\core\\fromnumeric.py:2389: FutureWarning: Method .ptp is deprecated and will be removed in a future version. Use numpy.ptp instead.\n",
      "  return ptp(axis=axis, out=out, **kwargs)\n",
      "C:\\Users\\Public\\Anaconda3\\lib\\site-packages\\numpy\\core\\fromnumeric.py:2389: FutureWarning: Method .ptp is deprecated and will be removed in a future version. Use numpy.ptp instead.\n",
      "  return ptp(axis=axis, out=out, **kwargs)\n",
      "C:\\Users\\Public\\Anaconda3\\lib\\site-packages\\numpy\\core\\fromnumeric.py:2389: FutureWarning: Method .ptp is deprecated and will be removed in a future version. Use numpy.ptp instead.\n",
      "  return ptp(axis=axis, out=out, **kwargs)\n",
      "C:\\Users\\Public\\Anaconda3\\lib\\site-packages\\numpy\\core\\fromnumeric.py:2389: FutureWarning: Method .ptp is deprecated and will be removed in a future version. Use numpy.ptp instead.\n",
      "  return ptp(axis=axis, out=out, **kwargs)\n",
      "C:\\Users\\Public\\Anaconda3\\lib\\site-packages\\numpy\\core\\fromnumeric.py:2389: FutureWarning: Method .ptp is deprecated and will be removed in a future version. Use numpy.ptp instead.\n",
      "  return ptp(axis=axis, out=out, **kwargs)\n",
      "C:\\Users\\Public\\Anaconda3\\lib\\site-packages\\numpy\\core\\fromnumeric.py:2389: FutureWarning: Method .ptp is deprecated and will be removed in a future version. Use numpy.ptp instead.\n",
      "  return ptp(axis=axis, out=out, **kwargs)\n"
     ]
    },
    {
     "name": "stdout",
     "output_type": "stream",
     "text": [
      "Add  GrLivArea_log                  with p-value 1.59847e-243\n",
      "Add  categoricals_TA                with p-value 1.56401e-67\n",
      "Add  1stFlrSF_log                   with p-value 7.00069e-48\n",
      "Add  categoricals_Fa                with p-value 1.70471e-37\n",
      "Add  categoricals_OldTown           with p-value 3.20105e-23\n",
      "Add  categoricals_Gd                with p-value 4.12635e-21\n",
      "Add  categoricals_Edwards           with p-value 9.05184e-17\n",
      "Add  categoricals_IDOTRR            with p-value 1.10068e-18\n",
      "Add  LotArea_log                    with p-value 1.71728e-13\n",
      "Add  categoricals_NridgHt           with p-value 7.05633e-12\n",
      "Add  categoricals_Duplex            with p-value 4.30647e-11\n",
      "Add  categoricals_NAmes             with p-value 2.25803e-09\n",
      "Add  categoricals_SWISU             with p-value 5.40743e-09\n",
      "Add  categoricals_BrkSide           with p-value 8.79638e-10\n",
      "Add  categoricals_Sawyer            with p-value 6.92011e-09\n",
      "Add  categoricals_NoRidge           with p-value 5.87105e-08\n",
      "Add  categoricals_Somerst           with p-value 3.00722e-08\n",
      "Add  categoricals_StoneBr           with p-value 6.58621e-10\n",
      "Add  categoricals_MeadowV           with p-value 2.26069e-05\n",
      "Add  categoricals_New               with p-value 0.000485363\n",
      "Add  categoricals_WD                with p-value 0.00253157\n",
      "Add  categoricals_BrDale            with p-value 0.00374541\n",
      "Add  categoricals_RM                with p-value 8.29694e-05\n",
      "Add  categoricals_RL                with p-value 0.00170469\n",
      "Add  categoricals_FV                with p-value 0.00114668\n",
      "Add  categoricals_RH                with p-value 3.95797e-05\n",
      "Add  categoricals_NWAmes            with p-value 0.00346099\n",
      "Drop categoricals_WD                with p-value 0.0554448\n"
     ]
    },
    {
     "name": "stderr",
     "output_type": "stream",
     "text": [
      "C:\\Users\\Public\\Anaconda3\\lib\\site-packages\\ipykernel_launcher.py:45: FutureWarning: \n",
      "The current behaviour of 'Series.argmax' is deprecated, use 'idxmax'\n",
      "instead.\n",
      "The behavior of 'argmax' will be corrected to return the positional\n",
      "maximum in the future. For now, use 'series.values.argmax' or\n",
      "'np.argmax(np.array(values))' to get the position of the maximum\n",
      "row.\n"
     ]
    },
    {
     "name": "stdout",
     "output_type": "stream",
     "text": [
      "Add  categoricals_Mitchel           with p-value 0.00994666\n",
      "Drop categoricals_Somerst           with p-value 0.0500753\n",
      "Add  categoricals_SawyerW           with p-value 0.00427685\n"
     ]
    }
   ],
   "source": [
    "X = preprocessed.drop(['SalePrice_log'], axis = 1)\n",
    "Y = preprocessed['SalePrice_log']\n",
    "\n",
    "result = stepwise_selection(X, Y, verbose = True)"
   ]
  },
  {
   "cell_type": "code",
   "execution_count": 41,
   "metadata": {},
   "outputs": [
    {
     "data": {
      "text/plain": [
       "['GrLivArea_log',\n",
       " 'categoricals_TA',\n",
       " '1stFlrSF_log',\n",
       " 'categoricals_Fa',\n",
       " 'categoricals_OldTown',\n",
       " 'categoricals_Gd',\n",
       " 'categoricals_Edwards',\n",
       " 'categoricals_IDOTRR',\n",
       " 'LotArea_log',\n",
       " 'categoricals_NridgHt',\n",
       " 'categoricals_Duplex',\n",
       " 'categoricals_NAmes',\n",
       " 'categoricals_SWISU',\n",
       " 'categoricals_BrkSide',\n",
       " 'categoricals_Sawyer',\n",
       " 'categoricals_NoRidge',\n",
       " 'categoricals_StoneBr',\n",
       " 'categoricals_MeadowV',\n",
       " 'categoricals_New',\n",
       " 'categoricals_BrDale',\n",
       " 'categoricals_RM',\n",
       " 'categoricals_RL',\n",
       " 'categoricals_FV',\n",
       " 'categoricals_RH',\n",
       " 'categoricals_NWAmes',\n",
       " 'categoricals_Mitchel',\n",
       " 'categoricals_SawyerW']"
      ]
     },
     "execution_count": 41,
     "metadata": {},
     "output_type": "execute_result"
    }
   ],
   "source": [
    "result"
   ]
  },
  {
   "cell_type": "code",
   "execution_count": 43,
   "metadata": {},
   "outputs": [
    {
     "data": {
      "text/html": [
       "<table class=\"simpletable\">\n",
       "<caption>OLS Regression Results</caption>\n",
       "<tr>\n",
       "  <th>Dep. Variable:</th>      <td>SalePrice_log</td>  <th>  R-squared:         </th> <td>   0.835</td>\n",
       "</tr>\n",
       "<tr>\n",
       "  <th>Model:</th>                   <td>OLS</td>       <th>  Adj. R-squared:    </th> <td>   0.832</td>\n",
       "</tr>\n",
       "<tr>\n",
       "  <th>Method:</th>             <td>Least Squares</td>  <th>  F-statistic:       </th> <td>   269.0</td>\n",
       "</tr>\n",
       "<tr>\n",
       "  <th>Date:</th>             <td>Fri, 24 Apr 2020</td> <th>  Prob (F-statistic):</th>  <td>  0.00</td> \n",
       "</tr>\n",
       "<tr>\n",
       "  <th>Time:</th>                 <td>18:41:56</td>     <th>  Log-Likelihood:    </th> <td>  585.39</td>\n",
       "</tr>\n",
       "<tr>\n",
       "  <th>No. Observations:</th>      <td>  1460</td>      <th>  AIC:               </th> <td>  -1115.</td>\n",
       "</tr>\n",
       "<tr>\n",
       "  <th>Df Residuals:</th>          <td>  1432</td>      <th>  BIC:               </th> <td>  -966.8</td>\n",
       "</tr>\n",
       "<tr>\n",
       "  <th>Df Model:</th>              <td>    27</td>      <th>                     </th>     <td> </td>   \n",
       "</tr>\n",
       "<tr>\n",
       "  <th>Covariance Type:</th>      <td>nonrobust</td>    <th>                     </th>     <td> </td>   \n",
       "</tr>\n",
       "</table>\n",
       "<table class=\"simpletable\">\n",
       "<tr>\n",
       "            <td></td>              <th>coef</th>     <th>std err</th>      <th>t</th>      <th>P>|t|</th>  <th>[0.025</th>    <th>0.975]</th>  \n",
       "</tr>\n",
       "<tr>\n",
       "  <th>const</th>                <td>   -8.2889</td> <td>    0.286</td> <td>  -29.031</td> <td> 0.000</td> <td>   -8.849</td> <td>   -7.729</td>\n",
       "</tr>\n",
       "<tr>\n",
       "  <th>GrLivArea_log</th>        <td>    0.4423</td> <td>    0.018</td> <td>   24.477</td> <td> 0.000</td> <td>    0.407</td> <td>    0.478</td>\n",
       "</tr>\n",
       "<tr>\n",
       "  <th>categoricals_TA</th>      <td>   -0.2804</td> <td>    0.022</td> <td>  -12.859</td> <td> 0.000</td> <td>   -0.323</td> <td>   -0.238</td>\n",
       "</tr>\n",
       "<tr>\n",
       "  <th>1stFlrSF_log</th>         <td>    0.1816</td> <td>    0.019</td> <td>    9.645</td> <td> 0.000</td> <td>    0.145</td> <td>    0.219</td>\n",
       "</tr>\n",
       "<tr>\n",
       "  <th>categoricals_Fa</th>      <td>   -0.4143</td> <td>    0.035</td> <td>  -11.864</td> <td> 0.000</td> <td>   -0.483</td> <td>   -0.346</td>\n",
       "</tr>\n",
       "<tr>\n",
       "  <th>categoricals_OldTown</th> <td>   -0.3445</td> <td>    0.025</td> <td>  -13.615</td> <td> 0.000</td> <td>   -0.394</td> <td>   -0.295</td>\n",
       "</tr>\n",
       "<tr>\n",
       "  <th>categoricals_Gd</th>      <td>   -0.1606</td> <td>    0.020</td> <td>   -8.046</td> <td> 0.000</td> <td>   -0.200</td> <td>   -0.121</td>\n",
       "</tr>\n",
       "<tr>\n",
       "  <th>categoricals_Edwards</th> <td>   -0.2804</td> <td>    0.019</td> <td>  -14.530</td> <td> 0.000</td> <td>   -0.318</td> <td>   -0.243</td>\n",
       "</tr>\n",
       "<tr>\n",
       "  <th>categoricals_IDOTRR</th>  <td>   -0.3429</td> <td>    0.039</td> <td>   -8.855</td> <td> 0.000</td> <td>   -0.419</td> <td>   -0.267</td>\n",
       "</tr>\n",
       "<tr>\n",
       "  <th>LotArea_log</th>          <td>    0.0846</td> <td>    0.011</td> <td>    7.387</td> <td> 0.000</td> <td>    0.062</td> <td>    0.107</td>\n",
       "</tr>\n",
       "<tr>\n",
       "  <th>categoricals_NridgHt</th> <td>    0.1539</td> <td>    0.023</td> <td>    6.809</td> <td> 0.000</td> <td>    0.110</td> <td>    0.198</td>\n",
       "</tr>\n",
       "<tr>\n",
       "  <th>categoricals_Duplex</th>  <td>   -0.1627</td> <td>    0.024</td> <td>   -6.678</td> <td> 0.000</td> <td>   -0.210</td> <td>   -0.115</td>\n",
       "</tr>\n",
       "<tr>\n",
       "  <th>categoricals_NAmes</th>   <td>   -0.1503</td> <td>    0.015</td> <td>   -9.981</td> <td> 0.000</td> <td>   -0.180</td> <td>   -0.121</td>\n",
       "</tr>\n",
       "<tr>\n",
       "  <th>categoricals_SWISU</th>   <td>   -0.2502</td> <td>    0.036</td> <td>   -7.020</td> <td> 0.000</td> <td>   -0.320</td> <td>   -0.180</td>\n",
       "</tr>\n",
       "<tr>\n",
       "  <th>categoricals_BrkSide</th> <td>   -0.2253</td> <td>    0.027</td> <td>   -8.493</td> <td> 0.000</td> <td>   -0.277</td> <td>   -0.173</td>\n",
       "</tr>\n",
       "<tr>\n",
       "  <th>categoricals_Sawyer</th>  <td>   -0.1608</td> <td>    0.022</td> <td>   -7.342</td> <td> 0.000</td> <td>   -0.204</td> <td>   -0.118</td>\n",
       "</tr>\n",
       "<tr>\n",
       "  <th>categoricals_NoRidge</th> <td>    0.1736</td> <td>    0.028</td> <td>    6.221</td> <td> 0.000</td> <td>    0.119</td> <td>    0.228</td>\n",
       "</tr>\n",
       "<tr>\n",
       "  <th>categoricals_StoneBr</th> <td>    0.1813</td> <td>    0.035</td> <td>    5.226</td> <td> 0.000</td> <td>    0.113</td> <td>    0.249</td>\n",
       "</tr>\n",
       "<tr>\n",
       "  <th>categoricals_MeadowV</th> <td>   -0.2645</td> <td>    0.047</td> <td>   -5.592</td> <td> 0.000</td> <td>   -0.357</td> <td>   -0.172</td>\n",
       "</tr>\n",
       "<tr>\n",
       "  <th>categoricals_New</th>     <td>    0.0592</td> <td>    0.017</td> <td>    3.388</td> <td> 0.001</td> <td>    0.025</td> <td>    0.094</td>\n",
       "</tr>\n",
       "<tr>\n",
       "  <th>categoricals_BrDale</th>  <td>   -0.1891</td> <td>    0.049</td> <td>   -3.839</td> <td> 0.000</td> <td>   -0.286</td> <td>   -0.092</td>\n",
       "</tr>\n",
       "<tr>\n",
       "  <th>categoricals_RM</th>      <td>    0.4322</td> <td>    0.059</td> <td>    7.363</td> <td> 0.000</td> <td>    0.317</td> <td>    0.547</td>\n",
       "</tr>\n",
       "<tr>\n",
       "  <th>categoricals_RL</th>      <td>    0.3961</td> <td>    0.062</td> <td>    6.356</td> <td> 0.000</td> <td>    0.274</td> <td>    0.518</td>\n",
       "</tr>\n",
       "<tr>\n",
       "  <th>categoricals_FV</th>      <td>    0.4814</td> <td>    0.066</td> <td>    7.284</td> <td> 0.000</td> <td>    0.352</td> <td>    0.611</td>\n",
       "</tr>\n",
       "<tr>\n",
       "  <th>categoricals_RH</th>      <td>    0.3397</td> <td>    0.076</td> <td>    4.490</td> <td> 0.000</td> <td>    0.191</td> <td>    0.488</td>\n",
       "</tr>\n",
       "<tr>\n",
       "  <th>categoricals_NWAmes</th>  <td>   -0.0821</td> <td>    0.021</td> <td>   -3.837</td> <td> 0.000</td> <td>   -0.124</td> <td>   -0.040</td>\n",
       "</tr>\n",
       "<tr>\n",
       "  <th>categoricals_Mitchel</th> <td>   -0.0776</td> <td>    0.026</td> <td>   -3.004</td> <td> 0.003</td> <td>   -0.128</td> <td>   -0.027</td>\n",
       "</tr>\n",
       "<tr>\n",
       "  <th>categoricals_SawyerW</th> <td>   -0.0665</td> <td>    0.023</td> <td>   -2.862</td> <td> 0.004</td> <td>   -0.112</td> <td>   -0.021</td>\n",
       "</tr>\n",
       "</table>\n",
       "<table class=\"simpletable\">\n",
       "<tr>\n",
       "  <th>Omnibus:</th>       <td>295.535</td> <th>  Durbin-Watson:     </th> <td>   1.965</td> \n",
       "</tr>\n",
       "<tr>\n",
       "  <th>Prob(Omnibus):</th> <td> 0.000</td>  <th>  Jarque-Bera (JB):  </th> <td>1270.571</td> \n",
       "</tr>\n",
       "<tr>\n",
       "  <th>Skew:</th>          <td>-0.903</td>  <th>  Prob(JB):          </th> <td>1.26e-276</td>\n",
       "</tr>\n",
       "<tr>\n",
       "  <th>Kurtosis:</th>      <td> 7.198</td>  <th>  Cond. No.          </th> <td>1.52e+03</td> \n",
       "</tr>\n",
       "</table><br/><br/>Warnings:<br/>[1] Standard Errors assume that the covariance matrix of the errors is correctly specified.<br/>[2] The condition number is large, 1.52e+03. This might indicate that there are<br/>strong multicollinearity or other numerical problems."
      ],
      "text/plain": [
       "<class 'statsmodels.iolib.summary.Summary'>\n",
       "\"\"\"\n",
       "                            OLS Regression Results                            \n",
       "==============================================================================\n",
       "Dep. Variable:          SalePrice_log   R-squared:                       0.835\n",
       "Model:                            OLS   Adj. R-squared:                  0.832\n",
       "Method:                 Least Squares   F-statistic:                     269.0\n",
       "Date:                Fri, 24 Apr 2020   Prob (F-statistic):               0.00\n",
       "Time:                        18:41:56   Log-Likelihood:                 585.39\n",
       "No. Observations:                1460   AIC:                            -1115.\n",
       "Df Residuals:                    1432   BIC:                            -966.8\n",
       "Df Model:                          27                                         \n",
       "Covariance Type:            nonrobust                                         \n",
       "========================================================================================\n",
       "                           coef    std err          t      P>|t|      [0.025      0.975]\n",
       "----------------------------------------------------------------------------------------\n",
       "const                   -8.2889      0.286    -29.031      0.000      -8.849      -7.729\n",
       "GrLivArea_log            0.4423      0.018     24.477      0.000       0.407       0.478\n",
       "categoricals_TA         -0.2804      0.022    -12.859      0.000      -0.323      -0.238\n",
       "1stFlrSF_log             0.1816      0.019      9.645      0.000       0.145       0.219\n",
       "categoricals_Fa         -0.4143      0.035    -11.864      0.000      -0.483      -0.346\n",
       "categoricals_OldTown    -0.3445      0.025    -13.615      0.000      -0.394      -0.295\n",
       "categoricals_Gd         -0.1606      0.020     -8.046      0.000      -0.200      -0.121\n",
       "categoricals_Edwards    -0.2804      0.019    -14.530      0.000      -0.318      -0.243\n",
       "categoricals_IDOTRR     -0.3429      0.039     -8.855      0.000      -0.419      -0.267\n",
       "LotArea_log              0.0846      0.011      7.387      0.000       0.062       0.107\n",
       "categoricals_NridgHt     0.1539      0.023      6.809      0.000       0.110       0.198\n",
       "categoricals_Duplex     -0.1627      0.024     -6.678      0.000      -0.210      -0.115\n",
       "categoricals_NAmes      -0.1503      0.015     -9.981      0.000      -0.180      -0.121\n",
       "categoricals_SWISU      -0.2502      0.036     -7.020      0.000      -0.320      -0.180\n",
       "categoricals_BrkSide    -0.2253      0.027     -8.493      0.000      -0.277      -0.173\n",
       "categoricals_Sawyer     -0.1608      0.022     -7.342      0.000      -0.204      -0.118\n",
       "categoricals_NoRidge     0.1736      0.028      6.221      0.000       0.119       0.228\n",
       "categoricals_StoneBr     0.1813      0.035      5.226      0.000       0.113       0.249\n",
       "categoricals_MeadowV    -0.2645      0.047     -5.592      0.000      -0.357      -0.172\n",
       "categoricals_New         0.0592      0.017      3.388      0.001       0.025       0.094\n",
       "categoricals_BrDale     -0.1891      0.049     -3.839      0.000      -0.286      -0.092\n",
       "categoricals_RM          0.4322      0.059      7.363      0.000       0.317       0.547\n",
       "categoricals_RL          0.3961      0.062      6.356      0.000       0.274       0.518\n",
       "categoricals_FV          0.4814      0.066      7.284      0.000       0.352       0.611\n",
       "categoricals_RH          0.3397      0.076      4.490      0.000       0.191       0.488\n",
       "categoricals_NWAmes     -0.0821      0.021     -3.837      0.000      -0.124      -0.040\n",
       "categoricals_Mitchel    -0.0776      0.026     -3.004      0.003      -0.128      -0.027\n",
       "categoricals_SawyerW    -0.0665      0.023     -2.862      0.004      -0.112      -0.021\n",
       "==============================================================================\n",
       "Omnibus:                      295.535   Durbin-Watson:                   1.965\n",
       "Prob(Omnibus):                  0.000   Jarque-Bera (JB):             1270.571\n",
       "Skew:                          -0.903   Prob(JB):                    1.26e-276\n",
       "Kurtosis:                       7.198   Cond. No.                     1.52e+03\n",
       "==============================================================================\n",
       "\n",
       "Warnings:\n",
       "[1] Standard Errors assume that the covariance matrix of the errors is correctly specified.\n",
       "[2] The condition number is large, 1.52e+03. This might indicate that there are\n",
       "strong multicollinearity or other numerical problems.\n",
       "\"\"\""
      ]
     },
     "execution_count": 43,
     "metadata": {},
     "output_type": "execute_result"
    }
   ],
   "source": [
    "import statsmodels.api as sm\n",
    "\n",
    "x_fin = X[result]\n",
    "x_with_intercept = sm.add_constant(x_fin)\n",
    "model = sm.OLS(Y,x_with_intercept).fit()\n",
    "model.summary()"
   ]
  },
  {
   "cell_type": "code",
   "execution_count": 45,
   "metadata": {},
   "outputs": [
    {
     "data": {
      "text/plain": [
       "array([False, False,  True, False, False, False, False, False, False,\n",
       "       False, False, False, False, False, False, False, False, False,\n",
       "        True,  True,  True,  True, False, False, False, False, False,\n",
       "       False, False, False, False, False, False, False, False, False,\n",
       "       False, False, False, False, False, False, False, False, False,\n",
       "       False, False])"
      ]
     },
     "execution_count": 45,
     "metadata": {},
     "output_type": "execute_result"
    }
   ],
   "source": [
    "from sklearn.feature_selection import RFE\n",
    "from sklearn.linear_model import LinearRegression\n",
    "\n",
    "linreg = LinearRegression()\n",
    "selector = RFE(linreg, n_features_to_select=5)\n",
    "selector = selector.fit(X,Y.values.ravel())\n",
    "selector.support_"
   ]
  },
  {
   "cell_type": "code",
   "execution_count": 46,
   "metadata": {},
   "outputs": [
    {
     "data": {
      "text/plain": [
       "LinearRegression(copy_X=True, fit_intercept=True, n_jobs=None, normalize=False)"
      ]
     },
     "execution_count": 46,
     "metadata": {},
     "output_type": "execute_result"
    }
   ],
   "source": [
    "selected_columns = X.columns[selector.support_]\n",
    "linreg.fit(X[selected_columns], Y)"
   ]
  },
  {
   "cell_type": "code",
   "execution_count": 55,
   "metadata": {},
   "outputs": [],
   "source": [
    "yhat = linreg.predict((X[selected_columns]))\n",
    "\n",
    "SS_residual = np.sum((Y-yhat)**2)\n",
    "SS_total = np.sum((Y-np.mean(Y))**2)\n",
    "r_squared = 1 - (float(SS_residual))/SS_total\n",
    "adjusted_r_squared = 1 - (1-r_squared)*(len(Y)-1)/(len(Y)-X[selected_columns].shape[1]-1)"
   ]
  },
  {
   "cell_type": "code",
   "execution_count": 56,
   "metadata": {},
   "outputs": [
    {
     "data": {
      "text/plain": [
       "0.6149723925230821"
      ]
     },
     "execution_count": 56,
     "metadata": {},
     "output_type": "execute_result"
    }
   ],
   "source": [
    "r_squared"
   ]
  },
  {
   "cell_type": "code",
   "execution_count": 57,
   "metadata": {},
   "outputs": [
    {
     "data": {
      "text/plain": [
       "0.6136483636115384"
      ]
     },
     "execution_count": 57,
     "metadata": {},
     "output_type": "execute_result"
    }
   ],
   "source": [
    "adjusted_r_squared"
   ]
  },
  {
   "cell_type": "code",
   "execution_count": 59,
   "metadata": {},
   "outputs": [
    {
     "data": {
      "text/plain": [
       "Index(['GrLivArea_log', 'categoricals_FV', 'categoricals_RH',\n",
       "       'categoricals_RL', 'categoricals_RM'],\n",
       "      dtype='object')"
      ]
     },
     "execution_count": 59,
     "metadata": {},
     "output_type": "execute_result"
    }
   ],
   "source": [
    "X.columns[selector.support_]"
   ]
  },
  {
   "cell_type": "code",
   "execution_count": null,
   "metadata": {},
   "outputs": [],
   "source": []
  }
 ],
 "metadata": {
  "kernelspec": {
   "display_name": "Python 3",
   "language": "python",
   "name": "python3"
  },
  "language_info": {
   "codemirror_mode": {
    "name": "ipython",
    "version": 3
   },
   "file_extension": ".py",
   "mimetype": "text/x-python",
   "name": "python",
   "nbconvert_exporter": "python",
   "pygments_lexer": "ipython3",
   "version": "3.7.4"
  }
 },
 "nbformat": 4,
 "nbformat_minor": 2
}
